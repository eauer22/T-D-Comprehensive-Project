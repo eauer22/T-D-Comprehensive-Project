{
 "cells": [
  {
   "cell_type": "markdown",
   "metadata": {},
   "source": [
    "# T&D Comprehensive Project Analyses"
   ]
  },
  {
   "cell_type": "markdown",
   "metadata": {},
   "source": [
    "Load Libraries"
   ]
  },
  {
   "cell_type": "code",
   "execution_count": 29,
   "metadata": {},
   "outputs": [],
   "source": [
    "library(tidyverse)\n",
    "library(psych)\n",
    "library(lavaan)"
   ]
  },
  {
   "cell_type": "markdown",
   "metadata": {},
   "source": [
    "## Data Import and Cleaning\n",
    "Read in survey data (data.csv) and open ended scores from rubric scoring (openended scoring.csv). \n",
    "\n",
    "Clean data (keep only actual cases and relevant variables.\n",
    "\n",
    "Score MC & open-ended items."
   ]
  },
  {
   "cell_type": "code",
   "execution_count": 30,
   "metadata": {},
   "outputs": [],
   "source": [
    "#read in survey data\n",
    "data<-read.csv(\"data.csv\",stringsAsFactors=FALSE)\n",
    "\n",
    "#read in openended response scores\n",
    "openendedscores<- read.csv(\"openended scoring.csv\")\n",
    "\n",
    "data<-data[-c(1:6),] #remove invalid cases\n",
    "\n",
    "# score MC questions\n",
    "mc_questions <- data[,18:30] #subset MC vars\n",
    "mc_questions <- mc_questions %>%\n",
    "  mutate_if(is.character, as.numeric) #convert to proper variable type\n",
    "keys <- c(2,5,2,5,6,2,5,2,2,4,6,1,2) #answer key\n",
    "scores<-score.multiple.choice(keys,mc_questions,score=FALSE)\n",
    "scores<-as.data.frame(scores)\n",
    "\n",
    "# create scale scores for openended questions\n",
    "openended<-select(openendedscores, Score, Score.1, Score.2, Score.3, Score.4)\n",
    "keys_opend <- list(openended = c(\"Score\", \"Score.1\", \"Score.2\", \"Score.3\", \"Score.4\"))\n",
    "scored_openended<-scoreItems(keys_opend, openended)\n",
    "\n"
   ]
  },
  {
   "cell_type": "markdown",
   "metadata": {},
   "source": [
    "## Descriptives"
   ]
  },
  {
   "cell_type": "markdown",
   "metadata": {},
   "source": [
    "Descriptives for knowledge test scores"
   ]
  },
  {
   "cell_type": "code",
   "execution_count": 31,
   "metadata": {},
   "outputs": [
    {
     "data": {
      "text/html": [
       "<table>\n",
       "<thead><tr><th></th><th scope=col>vars</th><th scope=col>n</th><th scope=col>mean</th><th scope=col>sd</th><th scope=col>median</th><th scope=col>trimmed</th><th scope=col>mad</th><th scope=col>min</th><th scope=col>max</th><th scope=col>range</th><th scope=col>skew</th><th scope=col>kurtosis</th><th scope=col>se</th></tr></thead>\n",
       "<tbody>\n",
       "\t<tr><th scope=row>Q1</th><td> 1        </td><td>7         </td><td>0.8571429 </td><td>0.3779645 </td><td>1         </td><td>0.8571429 </td><td>0         </td><td>0         </td><td>1         </td><td>1         </td><td>-1.6198477</td><td> 0.7959184</td><td>0.1428571 </td></tr>\n",
       "\t<tr><th scope=row>Q2</th><td> 2        </td><td>7         </td><td>0.5714286 </td><td>0.5345225 </td><td>1         </td><td>0.5714286 </td><td>0         </td><td>0         </td><td>1         </td><td>1         </td><td>-0.2290811</td><td>-2.2040816</td><td>0.2020305 </td></tr>\n",
       "\t<tr><th scope=row>Q3</th><td> 3        </td><td>7         </td><td>1.0000000 </td><td>0.0000000 </td><td>1         </td><td>1.0000000 </td><td>0         </td><td>1         </td><td>1         </td><td>0         </td><td>       NaN</td><td>       NaN</td><td>0.0000000 </td></tr>\n",
       "\t<tr><th scope=row>Q4</th><td> 4        </td><td>7         </td><td>1.0000000 </td><td>0.0000000 </td><td>1         </td><td>1.0000000 </td><td>0         </td><td>1         </td><td>1         </td><td>0         </td><td>       NaN</td><td>       NaN</td><td>0.0000000 </td></tr>\n",
       "\t<tr><th scope=row>Q5</th><td> 5        </td><td>7         </td><td>0.1428571 </td><td>0.3779645 </td><td>0         </td><td>0.1428571 </td><td>0         </td><td>0         </td><td>1         </td><td>1         </td><td> 1.6198477</td><td> 0.7959184</td><td>0.1428571 </td></tr>\n",
       "\t<tr><th scope=row>Q6</th><td> 6        </td><td>7         </td><td>1.0000000 </td><td>0.0000000 </td><td>1         </td><td>1.0000000 </td><td>0         </td><td>1         </td><td>1         </td><td>0         </td><td>       NaN</td><td>       NaN</td><td>0.0000000 </td></tr>\n",
       "\t<tr><th scope=row>Q7</th><td> 7        </td><td>7         </td><td>0.7142857 </td><td>0.4879500 </td><td>1         </td><td>0.7142857 </td><td>0         </td><td>0         </td><td>1         </td><td>1         </td><td>-0.7528372</td><td>-1.6040816</td><td>0.1844278 </td></tr>\n",
       "\t<tr><th scope=row>Q8</th><td> 8        </td><td>7         </td><td>0.8571429 </td><td>0.3779645 </td><td>1         </td><td>0.8571429 </td><td>0         </td><td>0         </td><td>1         </td><td>1         </td><td>-1.6198477</td><td> 0.7959184</td><td>0.1428571 </td></tr>\n",
       "\t<tr><th scope=row>Q9</th><td> 9        </td><td>7         </td><td>1.0000000 </td><td>0.0000000 </td><td>1         </td><td>1.0000000 </td><td>0         </td><td>1         </td><td>1         </td><td>0         </td><td>       NaN</td><td>       NaN</td><td>0.0000000 </td></tr>\n",
       "\t<tr><th scope=row>Q10</th><td>10        </td><td>7         </td><td>0.8571429 </td><td>0.3779645 </td><td>1         </td><td>0.8571429 </td><td>0         </td><td>0         </td><td>1         </td><td>1         </td><td>-1.6198477</td><td> 0.7959184</td><td>0.1428571 </td></tr>\n",
       "\t<tr><th scope=row>Q11</th><td>11        </td><td>7         </td><td>1.0000000 </td><td>0.0000000 </td><td>1         </td><td>1.0000000 </td><td>0         </td><td>1         </td><td>1         </td><td>0         </td><td>       NaN</td><td>       NaN</td><td>0.0000000 </td></tr>\n",
       "\t<tr><th scope=row>Q12</th><td>12        </td><td>7         </td><td>1.0000000 </td><td>0.0000000 </td><td>1         </td><td>1.0000000 </td><td>0         </td><td>1         </td><td>1         </td><td>0         </td><td>       NaN</td><td>       NaN</td><td>0.0000000 </td></tr>\n",
       "\t<tr><th scope=row>Q13</th><td>13        </td><td>7         </td><td>0.5714286 </td><td>0.5345225 </td><td>1         </td><td>0.5714286 </td><td>0         </td><td>0         </td><td>1         </td><td>1         </td><td>-0.2290811</td><td>-2.2040816</td><td>0.2020305 </td></tr>\n",
       "</tbody>\n",
       "</table>\n"
      ],
      "text/latex": [
       "\\begin{tabular}{r|lllllllllllll}\n",
       "  & vars & n & mean & sd & median & trimmed & mad & min & max & range & skew & kurtosis & se\\\\\n",
       "\\hline\n",
       "\tQ1 &  1         & 7          & 0.8571429  & 0.3779645  & 1          & 0.8571429  & 0          & 0          & 1          & 1          & -1.6198477 &  0.7959184 & 0.1428571 \\\\\n",
       "\tQ2 &  2         & 7          & 0.5714286  & 0.5345225  & 1          & 0.5714286  & 0          & 0          & 1          & 1          & -0.2290811 & -2.2040816 & 0.2020305 \\\\\n",
       "\tQ3 &  3         & 7          & 1.0000000  & 0.0000000  & 1          & 1.0000000  & 0          & 1          & 1          & 0          &        NaN &        NaN & 0.0000000 \\\\\n",
       "\tQ4 &  4         & 7          & 1.0000000  & 0.0000000  & 1          & 1.0000000  & 0          & 1          & 1          & 0          &        NaN &        NaN & 0.0000000 \\\\\n",
       "\tQ5 &  5         & 7          & 0.1428571  & 0.3779645  & 0          & 0.1428571  & 0          & 0          & 1          & 1          &  1.6198477 &  0.7959184 & 0.1428571 \\\\\n",
       "\tQ6 &  6         & 7          & 1.0000000  & 0.0000000  & 1          & 1.0000000  & 0          & 1          & 1          & 0          &        NaN &        NaN & 0.0000000 \\\\\n",
       "\tQ7 &  7         & 7          & 0.7142857  & 0.4879500  & 1          & 0.7142857  & 0          & 0          & 1          & 1          & -0.7528372 & -1.6040816 & 0.1844278 \\\\\n",
       "\tQ8 &  8         & 7          & 0.8571429  & 0.3779645  & 1          & 0.8571429  & 0          & 0          & 1          & 1          & -1.6198477 &  0.7959184 & 0.1428571 \\\\\n",
       "\tQ9 &  9         & 7          & 1.0000000  & 0.0000000  & 1          & 1.0000000  & 0          & 1          & 1          & 0          &        NaN &        NaN & 0.0000000 \\\\\n",
       "\tQ10 & 10         & 7          & 0.8571429  & 0.3779645  & 1          & 0.8571429  & 0          & 0          & 1          & 1          & -1.6198477 &  0.7959184 & 0.1428571 \\\\\n",
       "\tQ11 & 11         & 7          & 1.0000000  & 0.0000000  & 1          & 1.0000000  & 0          & 1          & 1          & 0          &        NaN &        NaN & 0.0000000 \\\\\n",
       "\tQ12 & 12         & 7          & 1.0000000  & 0.0000000  & 1          & 1.0000000  & 0          & 1          & 1          & 0          &        NaN &        NaN & 0.0000000 \\\\\n",
       "\tQ13 & 13         & 7          & 0.5714286  & 0.5345225  & 1          & 0.5714286  & 0          & 0          & 1          & 1          & -0.2290811 & -2.2040816 & 0.2020305 \\\\\n",
       "\\end{tabular}\n"
      ],
      "text/markdown": [
       "\n",
       "| <!--/--> | vars | n | mean | sd | median | trimmed | mad | min | max | range | skew | kurtosis | se |\n",
       "|---|---|---|---|---|---|---|---|---|---|---|---|---|---|\n",
       "| Q1 |  1         | 7          | 0.8571429  | 0.3779645  | 1          | 0.8571429  | 0          | 0          | 1          | 1          | -1.6198477 |  0.7959184 | 0.1428571  |\n",
       "| Q2 |  2         | 7          | 0.5714286  | 0.5345225  | 1          | 0.5714286  | 0          | 0          | 1          | 1          | -0.2290811 | -2.2040816 | 0.2020305  |\n",
       "| Q3 |  3         | 7          | 1.0000000  | 0.0000000  | 1          | 1.0000000  | 0          | 1          | 1          | 0          |        NaN |        NaN | 0.0000000  |\n",
       "| Q4 |  4         | 7          | 1.0000000  | 0.0000000  | 1          | 1.0000000  | 0          | 1          | 1          | 0          |        NaN |        NaN | 0.0000000  |\n",
       "| Q5 |  5         | 7          | 0.1428571  | 0.3779645  | 0          | 0.1428571  | 0          | 0          | 1          | 1          |  1.6198477 |  0.7959184 | 0.1428571  |\n",
       "| Q6 |  6         | 7          | 1.0000000  | 0.0000000  | 1          | 1.0000000  | 0          | 1          | 1          | 0          |        NaN |        NaN | 0.0000000  |\n",
       "| Q7 |  7         | 7          | 0.7142857  | 0.4879500  | 1          | 0.7142857  | 0          | 0          | 1          | 1          | -0.7528372 | -1.6040816 | 0.1844278  |\n",
       "| Q8 |  8         | 7          | 0.8571429  | 0.3779645  | 1          | 0.8571429  | 0          | 0          | 1          | 1          | -1.6198477 |  0.7959184 | 0.1428571  |\n",
       "| Q9 |  9         | 7          | 1.0000000  | 0.0000000  | 1          | 1.0000000  | 0          | 1          | 1          | 0          |        NaN |        NaN | 0.0000000  |\n",
       "| Q10 | 10         | 7          | 0.8571429  | 0.3779645  | 1          | 0.8571429  | 0          | 0          | 1          | 1          | -1.6198477 |  0.7959184 | 0.1428571  |\n",
       "| Q11 | 11         | 7          | 1.0000000  | 0.0000000  | 1          | 1.0000000  | 0          | 1          | 1          | 0          |        NaN |        NaN | 0.0000000  |\n",
       "| Q12 | 12         | 7          | 1.0000000  | 0.0000000  | 1          | 1.0000000  | 0          | 1          | 1          | 0          |        NaN |        NaN | 0.0000000  |\n",
       "| Q13 | 13         | 7          | 0.5714286  | 0.5345225  | 1          | 0.5714286  | 0          | 0          | 1          | 1          | -0.2290811 | -2.2040816 | 0.2020305  |\n",
       "\n"
      ],
      "text/plain": [
       "    vars n mean      sd        median trimmed   mad min max range skew      \n",
       "Q1   1   7 0.8571429 0.3779645 1      0.8571429 0   0   1   1     -1.6198477\n",
       "Q2   2   7 0.5714286 0.5345225 1      0.5714286 0   0   1   1     -0.2290811\n",
       "Q3   3   7 1.0000000 0.0000000 1      1.0000000 0   1   1   0            NaN\n",
       "Q4   4   7 1.0000000 0.0000000 1      1.0000000 0   1   1   0            NaN\n",
       "Q5   5   7 0.1428571 0.3779645 0      0.1428571 0   0   1   1      1.6198477\n",
       "Q6   6   7 1.0000000 0.0000000 1      1.0000000 0   1   1   0            NaN\n",
       "Q7   7   7 0.7142857 0.4879500 1      0.7142857 0   0   1   1     -0.7528372\n",
       "Q8   8   7 0.8571429 0.3779645 1      0.8571429 0   0   1   1     -1.6198477\n",
       "Q9   9   7 1.0000000 0.0000000 1      1.0000000 0   1   1   0            NaN\n",
       "Q10 10   7 0.8571429 0.3779645 1      0.8571429 0   0   1   1     -1.6198477\n",
       "Q11 11   7 1.0000000 0.0000000 1      1.0000000 0   1   1   0            NaN\n",
       "Q12 12   7 1.0000000 0.0000000 1      1.0000000 0   1   1   0            NaN\n",
       "Q13 13   7 0.5714286 0.5345225 1      0.5714286 0   0   1   1     -0.2290811\n",
       "    kurtosis   se       \n",
       "Q1   0.7959184 0.1428571\n",
       "Q2  -2.2040816 0.2020305\n",
       "Q3         NaN 0.0000000\n",
       "Q4         NaN 0.0000000\n",
       "Q5   0.7959184 0.1428571\n",
       "Q6         NaN 0.0000000\n",
       "Q7  -1.6040816 0.1844278\n",
       "Q8   0.7959184 0.1428571\n",
       "Q9         NaN 0.0000000\n",
       "Q10  0.7959184 0.1428571\n",
       "Q11        NaN 0.0000000\n",
       "Q12        NaN 0.0000000\n",
       "Q13 -2.2040816 0.2020305"
      ]
     },
     "metadata": {},
     "output_type": "display_data"
    }
   ],
   "source": [
    "describe(scores)"
   ]
  },
  {
   "cell_type": "markdown",
   "metadata": {},
   "source": [
    "Descriptives for openended scores (individual)"
   ]
  },
  {
   "cell_type": "code",
   "execution_count": 32,
   "metadata": {},
   "outputs": [
    {
     "data": {
      "text/html": [
       "<table>\n",
       "<thead><tr><th></th><th scope=col>vars</th><th scope=col>n</th><th scope=col>mean</th><th scope=col>sd</th><th scope=col>median</th><th scope=col>trimmed</th><th scope=col>mad</th><th scope=col>min</th><th scope=col>max</th><th scope=col>range</th><th scope=col>skew</th><th scope=col>kurtosis</th><th scope=col>se</th></tr></thead>\n",
       "<tbody>\n",
       "\t<tr><th scope=row>Score</th><td>1         </td><td>7         </td><td>3.571429  </td><td>0.9759001 </td><td>4         </td><td>3.571429  </td><td>1.4826    </td><td>2         </td><td>5         </td><td>3         </td><td>-0.1693884</td><td>-1.334082 </td><td>0.3688556 </td></tr>\n",
       "\t<tr><th scope=row>Score.1</th><td>2         </td><td>7         </td><td>3.857143  </td><td>1.0690450 </td><td>3         </td><td>3.857143  </td><td>0.0000    </td><td>3         </td><td>5         </td><td>2         </td><td> 0.2290811</td><td>-2.204082 </td><td>0.4040610 </td></tr>\n",
       "\t<tr><th scope=row>Score.2</th><td>3         </td><td>7         </td><td>3.714286  </td><td>0.7559289 </td><td>4         </td><td>3.714286  </td><td>1.4826    </td><td>3         </td><td>5         </td><td>2         </td><td> 0.3644657</td><td>-1.454082 </td><td>0.2857143 </td></tr>\n",
       "\t<tr><th scope=row>Score.3</th><td>4         </td><td>7         </td><td>3.142857  </td><td>1.2149858 </td><td>3         </td><td>3.142857  </td><td>1.4826    </td><td>2         </td><td>5         </td><td>3         </td><td> 0.2535811</td><td>-1.813863 </td><td>0.4592215 </td></tr>\n",
       "\t<tr><th scope=row>Score.4</th><td>5         </td><td>7         </td><td>2.714286  </td><td>1.1126973 </td><td>3         </td><td>2.714286  </td><td>1.4826    </td><td>1         </td><td>4         </td><td>3         </td><td>-0.1523727</td><td>-1.636034 </td><td>0.4205600 </td></tr>\n",
       "</tbody>\n",
       "</table>\n"
      ],
      "text/latex": [
       "\\begin{tabular}{r|lllllllllllll}\n",
       "  & vars & n & mean & sd & median & trimmed & mad & min & max & range & skew & kurtosis & se\\\\\n",
       "\\hline\n",
       "\tScore & 1          & 7          & 3.571429   & 0.9759001  & 4          & 3.571429   & 1.4826     & 2          & 5          & 3          & -0.1693884 & -1.334082  & 0.3688556 \\\\\n",
       "\tScore.1 & 2          & 7          & 3.857143   & 1.0690450  & 3          & 3.857143   & 0.0000     & 3          & 5          & 2          &  0.2290811 & -2.204082  & 0.4040610 \\\\\n",
       "\tScore.2 & 3          & 7          & 3.714286   & 0.7559289  & 4          & 3.714286   & 1.4826     & 3          & 5          & 2          &  0.3644657 & -1.454082  & 0.2857143 \\\\\n",
       "\tScore.3 & 4          & 7          & 3.142857   & 1.2149858  & 3          & 3.142857   & 1.4826     & 2          & 5          & 3          &  0.2535811 & -1.813863  & 0.4592215 \\\\\n",
       "\tScore.4 & 5          & 7          & 2.714286   & 1.1126973  & 3          & 2.714286   & 1.4826     & 1          & 4          & 3          & -0.1523727 & -1.636034  & 0.4205600 \\\\\n",
       "\\end{tabular}\n"
      ],
      "text/markdown": [
       "\n",
       "| <!--/--> | vars | n | mean | sd | median | trimmed | mad | min | max | range | skew | kurtosis | se |\n",
       "|---|---|---|---|---|---|---|---|---|---|---|---|---|---|\n",
       "| Score | 1          | 7          | 3.571429   | 0.9759001  | 4          | 3.571429   | 1.4826     | 2          | 5          | 3          | -0.1693884 | -1.334082  | 0.3688556  |\n",
       "| Score.1 | 2          | 7          | 3.857143   | 1.0690450  | 3          | 3.857143   | 0.0000     | 3          | 5          | 2          |  0.2290811 | -2.204082  | 0.4040610  |\n",
       "| Score.2 | 3          | 7          | 3.714286   | 0.7559289  | 4          | 3.714286   | 1.4826     | 3          | 5          | 2          |  0.3644657 | -1.454082  | 0.2857143  |\n",
       "| Score.3 | 4          | 7          | 3.142857   | 1.2149858  | 3          | 3.142857   | 1.4826     | 2          | 5          | 3          |  0.2535811 | -1.813863  | 0.4592215  |\n",
       "| Score.4 | 5          | 7          | 2.714286   | 1.1126973  | 3          | 2.714286   | 1.4826     | 1          | 4          | 3          | -0.1523727 | -1.636034  | 0.4205600  |\n",
       "\n"
      ],
      "text/plain": [
       "        vars n mean     sd        median trimmed  mad    min max range\n",
       "Score   1    7 3.571429 0.9759001 4      3.571429 1.4826 2   5   3    \n",
       "Score.1 2    7 3.857143 1.0690450 3      3.857143 0.0000 3   5   2    \n",
       "Score.2 3    7 3.714286 0.7559289 4      3.714286 1.4826 3   5   2    \n",
       "Score.3 4    7 3.142857 1.2149858 3      3.142857 1.4826 2   5   3    \n",
       "Score.4 5    7 2.714286 1.1126973 3      2.714286 1.4826 1   4   3    \n",
       "        skew       kurtosis  se       \n",
       "Score   -0.1693884 -1.334082 0.3688556\n",
       "Score.1  0.2290811 -2.204082 0.4040610\n",
       "Score.2  0.3644657 -1.454082 0.2857143\n",
       "Score.3  0.2535811 -1.813863 0.4592215\n",
       "Score.4 -0.1523727 -1.636034 0.4205600"
      ]
     },
     "metadata": {},
     "output_type": "display_data"
    }
   ],
   "source": [
    "describe(openended)"
   ]
  },
  {
   "cell_type": "markdown",
   "metadata": {},
   "source": [
    "Descriptives for openended scores (scale)"
   ]
  },
  {
   "cell_type": "code",
   "execution_count": 33,
   "metadata": {},
   "outputs": [
    {
     "data": {
      "text/html": [
       "<table>\n",
       "<thead><tr><th></th><th scope=col>vars</th><th scope=col>n</th><th scope=col>mean</th><th scope=col>sd</th><th scope=col>median</th><th scope=col>trimmed</th><th scope=col>mad</th><th scope=col>min</th><th scope=col>max</th><th scope=col>range</th><th scope=col>skew</th><th scope=col>kurtosis</th><th scope=col>se</th></tr></thead>\n",
       "<tbody>\n",
       "\t<tr><th scope=row>X1</th><td>1         </td><td>7         </td><td>3.4       </td><td>0.4898979 </td><td>3.6       </td><td>3.4       </td><td>0.59304   </td><td>2.6       </td><td>4         </td><td>1.4       </td><td>-0.3499271</td><td>-1.52381  </td><td>0.185164  </td></tr>\n",
       "</tbody>\n",
       "</table>\n"
      ],
      "text/latex": [
       "\\begin{tabular}{r|lllllllllllll}\n",
       "  & vars & n & mean & sd & median & trimmed & mad & min & max & range & skew & kurtosis & se\\\\\n",
       "\\hline\n",
       "\tX1 & 1          & 7          & 3.4        & 0.4898979  & 3.6        & 3.4        & 0.59304    & 2.6        & 4          & 1.4        & -0.3499271 & -1.52381   & 0.185164  \\\\\n",
       "\\end{tabular}\n"
      ],
      "text/markdown": [
       "\n",
       "| <!--/--> | vars | n | mean | sd | median | trimmed | mad | min | max | range | skew | kurtosis | se |\n",
       "|---|---|---|---|---|---|---|---|---|---|---|---|---|---|\n",
       "| X1 | 1          | 7          | 3.4        | 0.4898979  | 3.6        | 3.4        | 0.59304    | 2.6        | 4          | 1.4        | -0.3499271 | -1.52381   | 0.185164   |\n",
       "\n"
      ],
      "text/plain": [
       "   vars n mean sd        median trimmed mad     min max range skew      \n",
       "X1 1    7 3.4  0.4898979 3.6    3.4     0.59304 2.6 4   1.4   -0.3499271\n",
       "   kurtosis se      \n",
       "X1 -1.52381 0.185164"
      ]
     },
     "metadata": {},
     "output_type": "display_data"
    }
   ],
   "source": [
    "describe(scored_openended$scores)"
   ]
  },
  {
   "cell_type": "markdown",
   "metadata": {},
   "source": [
    "## Reliability"
   ]
  },
  {
   "cell_type": "code",
   "execution_count": 34,
   "metadata": {},
   "outputs": [
    {
     "name": "stderr",
     "output_type": "stream",
     "text": [
      "Warning message in psych::alpha(L01):\n",
      "\"Item = Q3 had no variance and was deleted\"Warning message in psych::alpha(L01):\n",
      "\"Item = Q4 had no variance and was deleted\"Warning message in psych::alpha(L01):\n",
      "\"Item = Q6 had no variance and was deleted\"Warning message in psych::alpha(L01):\n",
      "\"Some items were negatively correlated with the total scale and probably \n",
      "should be reversed.  \n",
      "To do this, run the function again with the 'check.keys=TRUE' option\""
     ]
    },
    {
     "name": "stdout",
     "output_type": "stream",
     "text": [
      "Some items ( Q2 ) were negatively correlated with the total scale and \n",
      "probably should be reversed.  \n",
      "To do this, run the function again with the 'check.keys=TRUE' option"
     ]
    },
    {
     "name": "stderr",
     "output_type": "stream",
     "text": [
      "Warning message in sqrt(Vtc):\n",
      "\"NaNs produced\""
     ]
    },
    {
     "data": {
      "text/plain": [
       "\n",
       "Reliability analysis   \n",
       "Call: psych::alpha(x = L01)\n",
       "\n",
       "  raw_alpha std.alpha G6(smc) average_r   S/N ase mean   sd median_r\n",
       "      -1.5      -1.2    -0.4     -0.22 -0.54 1.7 0.52 0.18    -0.35\n",
       "\n",
       " lower alpha upper     95% confidence boundaries\n",
       "-4.82 -1.5 1.82 \n",
       "\n",
       " Reliability if an item is dropped:\n",
       "   raw_alpha std.alpha G6(smc) average_r   S/N alpha se var.r med.r\n",
       "Q1     -1.60     -1.78   -0.47     -0.47 -0.64     1.82    NA -0.47\n",
       "Q2      0.29      0.29    0.17      0.17  0.40     0.54    NA  0.17\n",
       "Q5     -1.00     -1.09   -0.35     -0.35 -0.52     1.41    NA -0.35\n",
       "\n",
       " Item statistics \n",
       "   n raw.r std.r r.cor r.drop mean   sd\n",
       "Q1 7  0.47  0.63   NaN  -0.26 0.86 0.38\n",
       "Q2 7  0.42  0.13   NaN  -0.54 0.57 0.53\n",
       "Q5 7  0.35  0.54   NaN  -0.35 0.14 0.38\n",
       "\n",
       "Non missing response frequency for each item\n",
       "      0    1 miss\n",
       "Q1 0.14 0.86    0\n",
       "Q2 0.43 0.57    0\n",
       "Q5 0.86 0.14    0"
      ]
     },
     "metadata": {},
     "output_type": "display_data"
    },
    {
     "name": "stderr",
     "output_type": "stream",
     "text": [
      "Warning message in matrix(unlist(drop.item), ncol = 10, byrow = TRUE):\n",
      "\"data length [16] is not a sub-multiple or multiple of the number of columns [10]\""
     ]
    },
    {
     "data": {
      "text/plain": [
       "\n",
       "Reliability analysis   \n",
       "Call: psych::alpha(x = L01)\n",
       "\n",
       "  raw_alpha std.alpha G6(smc) average_r S/N  ase mean   sd median_r\n",
       "      0.29      0.29    0.17      0.17 0.4 0.54  0.5 0.29     0.17\n",
       "\n",
       " lower alpha upper     95% confidence boundaries\n",
       "-0.77 0.29 1.34 \n",
       "\n",
       " Reliability if an item is dropped:\n",
       "   raw_alpha std.alpha G6(smc) average_r S/N alpha se var.r med.r\n",
       "Q1     0.167      0.17   0.028      0.17  NA       NA 0.167  0.17\n",
       "Q5     0.028      0.17      NA        NA  NA       NA 0.028  0.17\n",
       "\n",
       " Item statistics \n",
       "   n raw.r std.r r.cor r.drop mean   sd\n",
       "Q1 7  0.76  0.76  0.31   0.17 0.86 0.38\n",
       "Q5 7  0.76  0.76  0.31   0.17 0.14 0.38\n",
       "\n",
       "Non missing response frequency for each item\n",
       "      0    1 miss\n",
       "Q1 0.14 0.86    0\n",
       "Q5 0.86 0.14    0"
      ]
     },
     "metadata": {},
     "output_type": "display_data"
    }
   ],
   "source": [
    "#LO 1\n",
    "L01 <- scores %>%\n",
    "  dplyr::select(Q1, Q2,Q3, Q4, Q5,Q6) \n",
    "psych::alpha(L01)\n",
    "\n",
    "#with dropped items\n",
    "L01 <- scores %>%\n",
    "  dplyr::select(Q1, Q5) \n",
    "psych::alpha(L01)\n"
   ]
  },
  {
   "cell_type": "code",
   "execution_count": 35,
   "metadata": {},
   "outputs": [
    {
     "name": "stderr",
     "output_type": "stream",
     "text": [
      "Warning message in psych::alpha(L02):\n",
      "\"Item = Q9 had no variance and was deleted\"Warning message in psych::alpha(L02):\n",
      "\"Item = Q11 had no variance and was deleted\"Warning message in psych::alpha(L02):\n",
      "\"Item = Q12 had no variance and was deleted\"Warning message in psych::alpha(L02):\n",
      "\"Some items were negatively correlated with the total scale and probably \n",
      "should be reversed.  \n",
      "To do this, run the function again with the 'check.keys=TRUE' option\""
     ]
    },
    {
     "name": "stdout",
     "output_type": "stream",
     "text": [
      "Some items ( Q10 ) were negatively correlated with the total scale and \n",
      "probably should be reversed.  \n",
      "To do this, run the function again with the 'check.keys=TRUE' option"
     ]
    },
    {
     "data": {
      "text/plain": [
       "\n",
       "Reliability analysis   \n",
       "Call: psych::alpha(x = L02)\n",
       "\n",
       "  raw_alpha std.alpha G6(smc) average_r S/N  ase mean   sd median_r\n",
       "      0.52      0.51    0.71      0.21 1.1 0.29 0.75 0.29     0.28\n",
       "\n",
       " lower alpha upper     95% confidence boundaries\n",
       "-0.05 0.52 1.1 \n",
       "\n",
       " Reliability if an item is dropped:\n",
       "    raw_alpha std.alpha G6(smc) average_r  S/N alpha se var.r  med.r\n",
       "Q7       0.55      0.51    0.64     0.259 1.05     0.26  0.14  0.471\n",
       "Q8       0.26      0.25    0.37     0.101 0.34     0.47  0.13  0.091\n",
       "Q10      0.62      0.67    0.70     0.403 2.02     0.26  0.08  0.471\n",
       "Q13      0.23      0.19    0.40     0.074 0.24     0.48  0.25 -0.167\n",
       "\n",
       " Item statistics \n",
       "    n raw.r std.r r.cor r.drop mean   sd\n",
       "Q7  7  0.59  0.58  0.44  0.205 0.71 0.49\n",
       "Q8  7  0.76  0.76  0.75  0.560 0.86 0.38\n",
       "Q10 7  0.38  0.41  0.22  0.059 0.86 0.38\n",
       "Q13 7  0.81  0.80  0.74  0.510 0.57 0.53\n",
       "\n",
       "Non missing response frequency for each item\n",
       "       0    1 miss\n",
       "Q7  0.29 0.71    0\n",
       "Q8  0.14 0.86    0\n",
       "Q10 0.14 0.86    0\n",
       "Q13 0.43 0.57    0"
      ]
     },
     "metadata": {},
     "output_type": "display_data"
    },
    {
     "name": "stderr",
     "output_type": "stream",
     "text": [
      "Warning message in psych::alpha(L02):\n",
      "\"Some items were negatively correlated with the total scale and probably \n",
      "should be reversed.  \n",
      "To do this, run the function again with the 'check.keys=TRUE' option\""
     ]
    },
    {
     "name": "stdout",
     "output_type": "stream",
     "text": [
      "Some items ( Q10 ) were negatively correlated with the total scale and \n",
      "probably should be reversed.  \n",
      "To do this, run the function again with the 'check.keys=TRUE' option"
     ]
    },
    {
     "data": {
      "text/plain": [
       "\n",
       "Reliability analysis   \n",
       "Call: psych::alpha(x = L02)\n",
       "\n",
       "  raw_alpha std.alpha G6(smc) average_r S/N  ase mean   sd median_r\n",
       "      0.52      0.51    0.71      0.21 1.1 0.29 0.75 0.29     0.28\n",
       "\n",
       " lower alpha upper     95% confidence boundaries\n",
       "-0.05 0.52 1.1 \n",
       "\n",
       " Reliability if an item is dropped:\n",
       "    raw_alpha std.alpha G6(smc) average_r  S/N alpha se var.r  med.r\n",
       "Q7       0.55      0.51    0.64     0.259 1.05     0.26  0.14  0.471\n",
       "Q8       0.26      0.25    0.37     0.101 0.34     0.47  0.13  0.091\n",
       "Q10      0.62      0.67    0.70     0.403 2.02     0.26  0.08  0.471\n",
       "Q13      0.23      0.19    0.40     0.074 0.24     0.48  0.25 -0.167\n",
       "\n",
       " Item statistics \n",
       "    n raw.r std.r r.cor r.drop mean   sd\n",
       "Q7  7  0.59  0.58  0.44  0.205 0.71 0.49\n",
       "Q8  7  0.76  0.76  0.75  0.560 0.86 0.38\n",
       "Q10 7  0.38  0.41  0.22  0.059 0.86 0.38\n",
       "Q13 7  0.81  0.80  0.74  0.510 0.57 0.53\n",
       "\n",
       "Non missing response frequency for each item\n",
       "       0    1 miss\n",
       "Q7  0.29 0.71    0\n",
       "Q8  0.14 0.86    0\n",
       "Q10 0.14 0.86    0\n",
       "Q13 0.43 0.57    0"
      ]
     },
     "metadata": {},
     "output_type": "display_data"
    }
   ],
   "source": [
    "#LO 2\n",
    "L02 <- scores %>%\n",
    "  dplyr::select(Q7, Q8,Q9, Q10, Q11,Q12, Q13) \n",
    "psych::alpha(L02)\n",
    "\n",
    "#with dropped items\n",
    "L02 <- scores %>%\n",
    "  dplyr::select(Q7, Q8, Q10, Q13) \n",
    "psych::alpha(L02)\n"
   ]
  },
  {
   "cell_type": "code",
   "execution_count": 36,
   "metadata": {},
   "outputs": [
    {
     "name": "stderr",
     "output_type": "stream",
     "text": [
      "Warning message in alpha(openended):\n",
      "\"Some items were negatively correlated with the total scale and probably \n",
      "should be reversed.  \n",
      "To do this, run the function again with the 'check.keys=TRUE' option\""
     ]
    },
    {
     "name": "stdout",
     "output_type": "stream",
     "text": [
      "Some items ( Score Score.4 ) were negatively correlated with the total scale and \n",
      "probably should be reversed.  \n",
      "To do this, run the function again with the 'check.keys=TRUE' option"
     ]
    },
    {
     "data": {
      "text/plain": [
       "\n",
       "Reliability analysis   \n",
       "Call: alpha(x = openended)\n",
       "\n",
       "  raw_alpha std.alpha G6(smc) average_r  S/N  ase mean   sd median_r\n",
       "      0.13      0.15    0.91     0.034 0.17 0.54  3.4 0.49    0.063\n",
       "\n",
       " lower alpha upper     95% confidence boundaries\n",
       "-0.93 0.13 1.19 \n",
       "\n",
       " Reliability if an item is dropped:\n",
       "        raw_alpha std.alpha G6(smc) average_r    S/N alpha se var.r  med.r\n",
       "Score      -0.298    -0.348    0.74    -0.069 -0.258     0.80  0.18 -0.039\n",
       "Score.1     0.071     0.057    0.34     0.015  0.061     0.55  0.11 -0.023\n",
       "Score.2     0.182     0.190    0.72     0.055  0.234     0.53  0.15  0.063\n",
       "Score.3     0.170     0.254    0.57     0.079  0.341     0.54  0.15  0.175\n",
       "Score.4     0.279     0.281    0.58     0.089  0.390     0.44  0.11  0.175\n",
       "\n",
       " Item statistics \n",
       "        n raw.r std.r r.cor  r.drop mean   sd\n",
       "Score   7  0.70  0.74  0.68  0.3847  3.6 0.98\n",
       "Score.1 7  0.51  0.52  0.53  0.0842  3.9 1.07\n",
       "Score.2 7  0.27  0.42  0.39 -0.0400  3.7 0.76\n",
       "Score.3 7  0.50  0.36  0.35  0.0093  3.1 1.21\n",
       "Score.4 7  0.37  0.34  0.32 -0.0935  2.7 1.11\n",
       "\n",
       "Non missing response frequency for each item\n",
       "           1    2    3    4    5 miss\n",
       "Score   0.00 0.14 0.29 0.43 0.14    0\n",
       "Score.1 0.00 0.00 0.57 0.00 0.43    0\n",
       "Score.2 0.00 0.00 0.43 0.43 0.14    0\n",
       "Score.3 0.00 0.43 0.14 0.29 0.14    0\n",
       "Score.4 0.14 0.29 0.29 0.29 0.00    0"
      ]
     },
     "metadata": {},
     "output_type": "display_data"
    }
   ],
   "source": [
    "#LO 3\n",
    "alpha(openended)"
   ]
  },
  {
   "cell_type": "markdown",
   "metadata": {},
   "source": [
    "## Validity evidence: confirmatory factor analysis "
   ]
  },
  {
   "cell_type": "code",
   "execution_count": 37,
   "metadata": {},
   "outputs": [
    {
     "name": "stderr",
     "output_type": "stream",
     "text": [
      "Warning message in lav_model_vcov(lavmodel = lavmodel, lavsamplestats = lavsamplestats, :\n",
      "\"lavaan WARNING:\n",
      "    Could not compute standard errors! The information matrix could\n",
      "    not be inverted. This may be a symptom that the model is not\n",
      "    identified.\""
     ]
    },
    {
     "name": "stdout",
     "output_type": "stream",
     "text": [
      "lavaan 0.6-3 ended normally after 5 iterations\n",
      "\n",
      "  Optimization method                           NLMINB\n",
      "  Number of free parameters                          4\n",
      "\n",
      "  Number of observations                             7\n",
      "\n",
      "  Estimator                                       DWLS      Robust\n",
      "  Model Fit Test Statistic                          NA          NA\n",
      "  Degrees of freedom                                -1          -1\n",
      "  Minimum Function Value               0.0000000000000\n",
      "  Scaling correction factor                           \n",
      "  Shift parameter                                     \n",
      "    for simple second-order correction (Mplus variant)\n",
      "\n",
      "User model versus baseline model:\n",
      "\n",
      "  Comparative Fit Index (CFI)                       NA          NA\n",
      "  Tucker-Lewis Index (TLI)                          NA          NA\n",
      "\n",
      "  Robust Comparative Fit Index (CFI)                            NA\n",
      "  Robust Tucker-Lewis Index (TLI)                               NA\n",
      "\n",
      "Root Mean Square Error of Approximation:\n",
      "\n",
      "  RMSEA                                             NA          NA\n",
      "  90 Percent Confidence Interval             NA     NA          NA     NA\n",
      "  P-value RMSEA <= 0.05                             NA          NA\n",
      "\n",
      "  Robust RMSEA                                                  NA\n",
      "  90 Percent Confidence Interval                                NA     NA\n",
      "\n",
      "Standardized Root Mean Square Residual:\n",
      "\n",
      "  SRMR                                           0.000       0.000\n",
      "\n",
      "Parameter Estimates:\n",
      "\n",
      "  Information                                 Expected\n",
      "  Information saturated (h1) model        Unstructured\n",
      "  Standard Errors                           Robust.sem\n",
      "\n",
      "Latent Variables:\n",
      "                   Estimate  Std.Err  z-value  P(>|z|)\n",
      "  LO1 =~                                              \n",
      "    Q1                1.000                           \n",
      "    Q5               -0.685       NA                  \n",
      "\n",
      "Intercepts:\n",
      "                   Estimate  Std.Err  z-value  P(>|z|)\n",
      "   .Q1                0.000                           \n",
      "   .Q5                0.000                           \n",
      "    LO1               0.000                           \n",
      "\n",
      "Thresholds:\n",
      "                   Estimate  Std.Err  z-value  P(>|z|)\n",
      "    Q1|t1            -1.068       NA                  \n",
      "    Q5|t1             1.068       NA                  \n",
      "\n",
      "Variances:\n",
      "                   Estimate  Std.Err  z-value  P(>|z|)\n",
      "   .Q1                0.004                           \n",
      "   .Q5                0.533                           \n",
      "    LO1               0.996       NA                  \n",
      "\n",
      "Scales y*:\n",
      "                   Estimate  Std.Err  z-value  P(>|z|)\n",
      "    Q1                1.000                           \n",
      "    Q5                1.000                           \n",
      "\n"
     ]
    }
   ],
   "source": [
    "# LO 1\n",
    "#droped 3,4,6, due to no var\n",
    "L01 <- scores %>%\n",
    "  dplyr::select(Q1, Q5) %>%\n",
    "  mutate_all(ordered)\n",
    "\n",
    "model<-\n",
    "  cfa<-cfa(\"LO1 =~ Q1 +   Q5\", data=L01)\n",
    "summary(cfa, fit.measures=TRUE )\n"
   ]
  },
  {
   "cell_type": "code",
   "execution_count": 38,
   "metadata": {},
   "outputs": [
    {
     "name": "stderr",
     "output_type": "stream",
     "text": [
      "Warning message in lav_model_vcov(lavmodel = lavmodel, lavsamplestats = lavsamplestats, :\n",
      "\"lavaan WARNING:\n",
      "    The variance-covariance matrix of the estimated parameters (vcov)\n",
      "    does not appear to be positive definite! The smallest eigenvalue\n",
      "    (= -1.836953e-15) is smaller than zero. This may be a symptom that\n",
      "    the model is not identified.\""
     ]
    },
    {
     "name": "stdout",
     "output_type": "stream",
     "text": [
      "lavaan 0.6-3 ended normally after 20 iterations\n",
      "\n",
      "  Optimization method                           NLMINB\n",
      "  Number of free parameters                          8\n",
      "\n",
      "  Number of observations                             7\n",
      "\n",
      "  Estimator                                       DWLS      Robust\n",
      "  Model Fit Test Statistic                       0.017       0.409\n",
      "  Degrees of freedom                                 2           2\n",
      "  P-value (Chi-square)                           0.991       0.815\n",
      "  Scaling correction factor                                  0.736\n",
      "  Shift parameter                                            0.385\n",
      "    for simple second-order correction (Mplus variant)\n",
      "\n",
      "Model test baseline model:\n",
      "\n",
      "  Minimum Function Test Statistic                9.770       8.606\n",
      "  Degrees of freedom                                 6           6\n",
      "  P-value                                        0.135       0.197\n",
      "\n",
      "User model versus baseline model:\n",
      "\n",
      "  Comparative Fit Index (CFI)                    1.000       1.000\n",
      "  Tucker-Lewis Index (TLI)                       2.578       2.832\n",
      "\n",
      "  Robust Comparative Fit Index (CFI)                            NA\n",
      "  Robust Tucker-Lewis Index (TLI)                               NA\n",
      "\n",
      "Root Mean Square Error of Approximation:\n",
      "\n",
      "  RMSEA                                          0.000       0.000\n",
      "  90 Percent Confidence Interval          0.000  0.000       0.000  0.491\n",
      "  P-value RMSEA <= 0.05                          0.992       0.818\n",
      "\n",
      "  Robust RMSEA                                                  NA\n",
      "  90 Percent Confidence Interval                             0.000     NA\n",
      "\n",
      "Standardized Root Mean Square Residual:\n",
      "\n",
      "  SRMR                                           0.027       0.027\n",
      "\n",
      "Parameter Estimates:\n",
      "\n",
      "  Information                                 Expected\n",
      "  Information saturated (h1) model        Unstructured\n",
      "  Standard Errors                           Robust.sem\n",
      "\n",
      "Latent Variables:\n",
      "                   Estimate  Std.Err  z-value  P(>|z|)\n",
      "  LO2 =~                                              \n",
      "    Q7                1.000                           \n",
      "    Q8                1.882    1.615    1.165    0.244\n",
      "    Q10               1.878    2.723    0.690    0.490\n",
      "    Q13               0.342    1.172    0.292    0.770\n",
      "\n",
      "Intercepts:\n",
      "                   Estimate  Std.Err  z-value  P(>|z|)\n",
      "   .Q7                0.000                           \n",
      "   .Q8                0.000                           \n",
      "   .Q10               0.000                           \n",
      "   .Q13               0.000                           \n",
      "    LO2               0.000                           \n",
      "\n",
      "Thresholds:\n",
      "                   Estimate  Std.Err  z-value  P(>|z|)\n",
      "    Q7|t1            -0.566    0.543   -1.043    0.297\n",
      "    Q8|t1            -1.068    0.633   -1.686    0.092\n",
      "    Q10|t1           -1.068    0.633   -1.686    0.092\n",
      "    Q13|t1           -0.180    0.515   -0.350    0.727\n",
      "\n",
      "Variances:\n",
      "                   Estimate  Std.Err  z-value  P(>|z|)\n",
      "   .Q7                0.807                           \n",
      "   .Q8                0.318                           \n",
      "   .Q10               0.321                           \n",
      "   .Q13               0.977                           \n",
      "    LO2               0.193    0.303    0.636    0.525\n",
      "\n",
      "Scales y*:\n",
      "                   Estimate  Std.Err  z-value  P(>|z|)\n",
      "    Q7                1.000                           \n",
      "    Q8                1.000                           \n",
      "    Q10               1.000                           \n",
      "    Q13               1.000                           \n",
      "\n"
     ]
    }
   ],
   "source": [
    "# LO 2\n",
    "#droped 9,11,12, due to no var\n",
    "L02 <- scores %>%\n",
    "  dplyr::select(Q7, Q8,Q9, Q10, Q11,Q12, Q13) %>%\n",
    "  mutate_all(ordered)\n",
    "\n",
    "model<-\n",
    "  cfa<-cfa(\"LO2 =~ Q7+ Q8+ Q10+ Q13\", data=L02)\n",
    "summary(cfa, fit.measures=TRUE )\n"
   ]
  },
  {
   "cell_type": "code",
   "execution_count": 39,
   "metadata": {},
   "outputs": [
    {
     "name": "stderr",
     "output_type": "stream",
     "text": [
      "Warning message in lav_model_vcov(lavmodel = lavmodel, lavsamplestats = lavsamplestats, :\n",
      "\"lavaan WARNING:\n",
      "    Could not compute standard errors! The information matrix could\n",
      "    not be inverted. This may be a symptom that the model is not\n",
      "    identified.\"Warning message in lav_object_post_check(object):\n",
      "\"lavaan WARNING: some estimated ov variances are negative\"Warning message in lavaan::lavaan(model = \"LO3 =~ Score + Score.1 + Score.2 + Score.3 + Score.4\", :\n",
      "\"lavaan WARNING: not all elements of the gradient are (near) zero;\n",
      "                  the optimizer may not have found a local solution;\n",
      "                  use lavInspect(fit, \"optim.gradient\") to investigate\""
     ]
    },
    {
     "name": "stdout",
     "output_type": "stream",
     "text": [
      "lavaan 0.6-3 ended normally after 3334 iterations\n",
      "\n",
      "  Optimization method                           NLMINB\n",
      "  Number of free parameters                         10\n",
      "\n",
      "  Number of observations                             7\n",
      "\n",
      "  Estimator                                         ML\n",
      "  Model Fit Test Statistic                       8.328\n",
      "  Degrees of freedom                                 5\n",
      "  P-value (Chi-square)                           0.139\n",
      "\n",
      "Model test baseline model:\n",
      "\n",
      "  Minimum Function Test Statistic               27.148\n",
      "  Degrees of freedom                                10\n",
      "  P-value                                        0.002\n",
      "\n",
      "User model versus baseline model:\n",
      "\n",
      "  Comparative Fit Index (CFI)                    0.806\n",
      "  Tucker-Lewis Index (TLI)                       0.612\n",
      "\n",
      "Loglikelihood and Information Criteria:\n",
      "\n",
      "  Loglikelihood user model (H0)                -38.004\n",
      "  Loglikelihood unrestricted model (H1)        -33.840\n",
      "\n",
      "  Number of free parameters                         10\n",
      "  Akaike (AIC)                                  96.007\n",
      "  Bayesian (BIC)                                95.466\n",
      "  Sample-size adjusted Bayesian (BIC)           66.199\n",
      "\n",
      "Root Mean Square Error of Approximation:\n",
      "\n",
      "  RMSEA                                          0.308\n",
      "  90 Percent Confidence Interval          0.000  0.664\n",
      "  P-value RMSEA <= 0.05                          0.146\n",
      "\n",
      "Standardized Root Mean Square Residual:\n",
      "\n",
      "  SRMR                                           0.627\n",
      "\n",
      "Parameter Estimates:\n",
      "\n",
      "  Information                                 Expected\n",
      "  Information saturated (h1) model          Structured\n",
      "  Standard Errors                             Standard\n",
      "\n",
      "Latent Variables:\n",
      "                   Estimate  Std.Err  z-value  P(>|z|)\n",
      "  LO3 =~                                              \n",
      "    Score             1.000                           \n",
      "    Score.1          -2.611       NA                  \n",
      "    Score.2           0.933       NA                  \n",
      "    Score.3           2.122       NA                  \n",
      "    Score.4        1198.837       NA                  \n",
      "\n",
      "Variances:\n",
      "                   Estimate  Std.Err  z-value  P(>|z|)\n",
      "   .Score             0.819       NA                  \n",
      "   .Score.1           0.977       NA                  \n",
      "   .Score.2           0.489       NA                  \n",
      "   .Score.3           1.264       NA                  \n",
      "   .Score.4        -565.208       NA                  \n",
      "    LO3               0.000       NA                  \n",
      "\n"
     ]
    }
   ],
   "source": [
    "#LO 3\n",
    "LO3 <- openended\n",
    "model<-\n",
    "  cfa<-cfa(\"LO3 =~ Score + Score.1 + Score.2 + Score.3 + Score.4\", data=LO3)\n",
    "summary(cfa, fit.measures=TRUE )"
   ]
  },
  {
   "cell_type": "markdown",
   "metadata": {},
   "source": [
    "## Item Level Correlation Matrix"
   ]
  },
  {
   "cell_type": "code",
   "execution_count": 40,
   "metadata": {},
   "outputs": [
    {
     "name": "stderr",
     "output_type": "stream",
     "text": [
      "Warning message in cor(.):\n",
      "\"the standard deviation is zero\""
     ]
    },
    {
     "data": {
      "text/html": [
       "<table>\n",
       "<thead><tr><th></th><th scope=col>Q1</th><th scope=col>Q2</th><th scope=col>Q3</th><th scope=col>Q4</th><th scope=col>Q5</th><th scope=col>Q6</th><th scope=col>Q7</th><th scope=col>Q8</th><th scope=col>Q9</th><th scope=col>Q10</th><th scope=col>Q11</th><th scope=col>Q12</th><th scope=col>Q13</th><th scope=col>Score</th><th scope=col>Score.1</th><th scope=col>Score.2</th><th scope=col>Score.3</th><th scope=col>Score.4</th></tr></thead>\n",
       "<tbody>\n",
       "\t<tr><th scope=row>Q1</th><td> 1.0000000 </td><td>-0.3535534 </td><td>NA         </td><td>NA         </td><td> 0.1666667 </td><td>NA         </td><td>-0.25819889</td><td>-0.1666667 </td><td>NA         </td><td> 1.0000000 </td><td>NA         </td><td>NA         </td><td> 0.47140452</td><td>-0.19364917</td><td>-0.47140452</td><td>-0.1666667 </td><td>-0.31108551</td><td>-0.11322770</td></tr>\n",
       "\t<tr><th scope=row>Q2</th><td>-0.3535534 </td><td> 1.0000000 </td><td>NA         </td><td>NA         </td><td>-0.4714045 </td><td>NA         </td><td> 0.73029674</td><td> 0.4714045 </td><td>NA         </td><td>-0.3535534 </td><td>NA         </td><td>NA         </td><td>-0.16666667</td><td> 0.22821773</td><td> 0.75000000</td><td> 0.4714045 </td><td> 0.36661779</td><td>-0.24019223</td></tr>\n",
       "\t<tr><th scope=row>Q3</th><td>        NA </td><td>        NA </td><td> 1         </td><td>NA         </td><td>        NA </td><td>NA         </td><td>         NA</td><td>        NA </td><td>NA         </td><td>        NA </td><td>NA         </td><td>NA         </td><td>         NA</td><td>         NA</td><td>         NA</td><td>        NA </td><td>         NA</td><td>         NA</td></tr>\n",
       "\t<tr><th scope=row>Q4</th><td>        NA </td><td>        NA </td><td>NA         </td><td> 1         </td><td>        NA </td><td>NA         </td><td>         NA</td><td>        NA </td><td>NA         </td><td>        NA </td><td>NA         </td><td>NA         </td><td>         NA</td><td>         NA</td><td>         NA</td><td>        NA </td><td>         NA</td><td>         NA</td></tr>\n",
       "\t<tr><th scope=row>Q5</th><td> 0.1666667 </td><td>-0.4714045 </td><td>NA         </td><td>NA         </td><td> 1.0000000 </td><td>NA         </td><td>-0.64549722</td><td> 0.1666667 </td><td>NA         </td><td> 0.1666667 </td><td>NA         </td><td>NA         </td><td> 0.35355339</td><td>-0.25819889</td><td>-0.35355339</td><td>-0.4166667 </td><td>-0.41478068</td><td>-0.28306926</td></tr>\n",
       "\t<tr><th scope=row>Q6</th><td>        NA </td><td>        NA </td><td>NA         </td><td>NA         </td><td>        NA </td><td> 1         </td><td>         NA</td><td>        NA </td><td>NA         </td><td>        NA </td><td>NA         </td><td>NA         </td><td>         NA</td><td>         NA</td><td>         NA</td><td>        NA </td><td>         NA</td><td>         NA</td></tr>\n",
       "\t<tr><th scope=row>Q7</th><td>-0.2581989 </td><td> 0.7302967 </td><td>NA         </td><td>NA         </td><td>-0.6454972 </td><td>NA         </td><td> 1.00000000</td><td> 0.6454972 </td><td>NA         </td><td>-0.2581989 </td><td>NA         </td><td>NA         </td><td> 0.09128709</td><td> 0.75000000</td><td> 0.54772256</td><td> 0.6454972 </td><td> 0.08032193</td><td> 0.13155870</td></tr>\n",
       "\t<tr><th scope=row>Q8</th><td>-0.1666667 </td><td> 0.4714045 </td><td>NA         </td><td>NA         </td><td> 0.1666667 </td><td>NA         </td><td> 0.64549722</td><td> 1.0000000 </td><td>NA         </td><td>-0.1666667 </td><td>NA         </td><td>NA         </td><td> 0.47140452</td><td> 0.71004695</td><td> 0.35355339</td><td> 0.4166667 </td><td>-0.31108551</td><td>-0.11322770</td></tr>\n",
       "\t<tr><th scope=row>Q9</th><td>        NA </td><td>        NA </td><td>NA         </td><td>NA         </td><td>        NA </td><td>NA         </td><td>         NA</td><td>        NA </td><td> 1         </td><td>        NA </td><td>NA         </td><td>NA         </td><td>         NA</td><td>         NA</td><td>         NA</td><td>        NA </td><td>         NA</td><td>         NA</td></tr>\n",
       "\t<tr><th scope=row>Q10</th><td> 1.0000000 </td><td>-0.3535534 </td><td>NA         </td><td>NA         </td><td> 0.1666667 </td><td>NA         </td><td>-0.25819889</td><td>-0.1666667 </td><td>NA         </td><td> 1.0000000 </td><td>NA         </td><td>NA         </td><td> 0.47140452</td><td>-0.19364917</td><td>-0.47140452</td><td>-0.1666667 </td><td>-0.31108551</td><td>-0.11322770</td></tr>\n",
       "\t<tr><th scope=row>Q11</th><td>        NA </td><td>        NA </td><td>NA         </td><td>NA         </td><td>        NA </td><td>NA         </td><td>         NA</td><td>        NA </td><td>NA         </td><td>        NA </td><td> 1         </td><td>NA         </td><td>         NA</td><td>         NA</td><td>         NA</td><td>        NA </td><td>         NA</td><td>         NA</td></tr>\n",
       "\t<tr><th scope=row>Q12</th><td>        NA </td><td>        NA </td><td>NA         </td><td>NA         </td><td>        NA </td><td>NA         </td><td>         NA</td><td>        NA </td><td>NA         </td><td>        NA </td><td>NA         </td><td> 1         </td><td>         NA</td><td>         NA</td><td>         NA</td><td>        NA </td><td>         NA</td><td>         NA</td></tr>\n",
       "\t<tr><th scope=row>Q13</th><td> 0.4714045 </td><td>-0.1666667 </td><td>NA         </td><td>NA         </td><td> 0.3535534 </td><td>NA         </td><td> 0.09128709</td><td> 0.4714045 </td><td>NA         </td><td> 0.4714045 </td><td>NA         </td><td>NA         </td><td> 1.00000000</td><td> 0.22821773</td><td>-0.41666667</td><td> 0.4714045 </td><td>-0.91654447</td><td> 0.04003204</td></tr>\n",
       "\t<tr><th scope=row>Score</th><td>-0.1936492 </td><td> 0.2282177 </td><td>NA         </td><td>NA         </td><td>-0.2581989 </td><td>NA         </td><td> 0.75000000</td><td> 0.7100469 </td><td>NA         </td><td>-0.1936492 </td><td>NA         </td><td>NA         </td><td> 0.22821773</td><td> 1.00000000</td><td> 0.09128709</td><td> 0.2581989 </td><td>-0.08032193</td><td> 0.48238191</td></tr>\n",
       "\t<tr><th scope=row>Score.1</th><td>-0.4714045 </td><td> 0.7500000 </td><td>NA         </td><td>NA         </td><td>-0.3535534 </td><td>NA         </td><td> 0.54772256</td><td> 0.3535534 </td><td>NA         </td><td>-0.4714045 </td><td>NA         </td><td>NA         </td><td>-0.41666667</td><td> 0.09128709</td><td> 1.00000000</td><td> 0.3535534 </td><td> 0.40327957</td><td>-0.60048058</td></tr>\n",
       "\t<tr><th scope=row>Score.2</th><td>-0.1666667 </td><td> 0.4714045 </td><td>NA         </td><td>NA         </td><td>-0.4166667 </td><td>NA         </td><td> 0.64549722</td><td> 0.4166667 </td><td>NA         </td><td>-0.1666667 </td><td>NA         </td><td>NA         </td><td> 0.47140452</td><td> 0.25819889</td><td> 0.35355339</td><td> 1.0000000 </td><td>-0.49255205</td><td>-0.11322770</td></tr>\n",
       "\t<tr><th scope=row>Score.3</th><td>-0.3110855 </td><td> 0.3666178 </td><td>NA         </td><td>NA         </td><td>-0.4147807 </td><td>NA         </td><td> 0.08032193</td><td>-0.3110855 </td><td>NA         </td><td>-0.3110855 </td><td>NA         </td><td>NA         </td><td>-0.91654447</td><td>-0.08032193</td><td> 0.40327957</td><td>-0.4925521 </td><td> 1.00000000</td><td> 0.03522350</td></tr>\n",
       "\t<tr><th scope=row>Score.4</th><td>-0.1132277 </td><td>-0.2401922 </td><td>NA         </td><td>NA         </td><td>-0.2830693 </td><td>NA         </td><td> 0.13155870</td><td>-0.1132277 </td><td>NA         </td><td>-0.1132277 </td><td>NA         </td><td>NA         </td><td> 0.04003204</td><td> 0.48238191</td><td>-0.60048058</td><td>-0.1132277 </td><td> 0.03522350</td><td> 1.00000000</td></tr>\n",
       "</tbody>\n",
       "</table>\n"
      ],
      "text/latex": [
       "\\begin{tabular}{r|llllllllllllllllll}\n",
       "  & Q1 & Q2 & Q3 & Q4 & Q5 & Q6 & Q7 & Q8 & Q9 & Q10 & Q11 & Q12 & Q13 & Score & Score.1 & Score.2 & Score.3 & Score.4\\\\\n",
       "\\hline\n",
       "\tQ1 &  1.0000000  & -0.3535534  & NA          & NA          &  0.1666667  & NA          & -0.25819889 & -0.1666667  & NA          &  1.0000000  & NA          & NA          &  0.47140452 & -0.19364917 & -0.47140452 & -0.1666667  & -0.31108551 & -0.11322770\\\\\n",
       "\tQ2 & -0.3535534  &  1.0000000  & NA          & NA          & -0.4714045  & NA          &  0.73029674 &  0.4714045  & NA          & -0.3535534  & NA          & NA          & -0.16666667 &  0.22821773 &  0.75000000 &  0.4714045  &  0.36661779 & -0.24019223\\\\\n",
       "\tQ3 &         NA  &         NA  &  1          & NA          &         NA  & NA          &          NA &         NA  & NA          &         NA  & NA          & NA          &          NA &          NA &          NA &         NA  &          NA &          NA\\\\\n",
       "\tQ4 &         NA  &         NA  & NA          &  1          &         NA  & NA          &          NA &         NA  & NA          &         NA  & NA          & NA          &          NA &          NA &          NA &         NA  &          NA &          NA\\\\\n",
       "\tQ5 &  0.1666667  & -0.4714045  & NA          & NA          &  1.0000000  & NA          & -0.64549722 &  0.1666667  & NA          &  0.1666667  & NA          & NA          &  0.35355339 & -0.25819889 & -0.35355339 & -0.4166667  & -0.41478068 & -0.28306926\\\\\n",
       "\tQ6 &         NA  &         NA  & NA          & NA          &         NA  &  1          &          NA &         NA  & NA          &         NA  & NA          & NA          &          NA &          NA &          NA &         NA  &          NA &          NA\\\\\n",
       "\tQ7 & -0.2581989  &  0.7302967  & NA          & NA          & -0.6454972  & NA          &  1.00000000 &  0.6454972  & NA          & -0.2581989  & NA          & NA          &  0.09128709 &  0.75000000 &  0.54772256 &  0.6454972  &  0.08032193 &  0.13155870\\\\\n",
       "\tQ8 & -0.1666667  &  0.4714045  & NA          & NA          &  0.1666667  & NA          &  0.64549722 &  1.0000000  & NA          & -0.1666667  & NA          & NA          &  0.47140452 &  0.71004695 &  0.35355339 &  0.4166667  & -0.31108551 & -0.11322770\\\\\n",
       "\tQ9 &         NA  &         NA  & NA          & NA          &         NA  & NA          &          NA &         NA  &  1          &         NA  & NA          & NA          &          NA &          NA &          NA &         NA  &          NA &          NA\\\\\n",
       "\tQ10 &  1.0000000  & -0.3535534  & NA          & NA          &  0.1666667  & NA          & -0.25819889 & -0.1666667  & NA          &  1.0000000  & NA          & NA          &  0.47140452 & -0.19364917 & -0.47140452 & -0.1666667  & -0.31108551 & -0.11322770\\\\\n",
       "\tQ11 &         NA  &         NA  & NA          & NA          &         NA  & NA          &          NA &         NA  & NA          &         NA  &  1          & NA          &          NA &          NA &          NA &         NA  &          NA &          NA\\\\\n",
       "\tQ12 &         NA  &         NA  & NA          & NA          &         NA  & NA          &          NA &         NA  & NA          &         NA  & NA          &  1          &          NA &          NA &          NA &         NA  &          NA &          NA\\\\\n",
       "\tQ13 &  0.4714045  & -0.1666667  & NA          & NA          &  0.3535534  & NA          &  0.09128709 &  0.4714045  & NA          &  0.4714045  & NA          & NA          &  1.00000000 &  0.22821773 & -0.41666667 &  0.4714045  & -0.91654447 &  0.04003204\\\\\n",
       "\tScore & -0.1936492  &  0.2282177  & NA          & NA          & -0.2581989  & NA          &  0.75000000 &  0.7100469  & NA          & -0.1936492  & NA          & NA          &  0.22821773 &  1.00000000 &  0.09128709 &  0.2581989  & -0.08032193 &  0.48238191\\\\\n",
       "\tScore.1 & -0.4714045  &  0.7500000  & NA          & NA          & -0.3535534  & NA          &  0.54772256 &  0.3535534  & NA          & -0.4714045  & NA          & NA          & -0.41666667 &  0.09128709 &  1.00000000 &  0.3535534  &  0.40327957 & -0.60048058\\\\\n",
       "\tScore.2 & -0.1666667  &  0.4714045  & NA          & NA          & -0.4166667  & NA          &  0.64549722 &  0.4166667  & NA          & -0.1666667  & NA          & NA          &  0.47140452 &  0.25819889 &  0.35355339 &  1.0000000  & -0.49255205 & -0.11322770\\\\\n",
       "\tScore.3 & -0.3110855  &  0.3666178  & NA          & NA          & -0.4147807  & NA          &  0.08032193 & -0.3110855  & NA          & -0.3110855  & NA          & NA          & -0.91654447 & -0.08032193 &  0.40327957 & -0.4925521  &  1.00000000 &  0.03522350\\\\\n",
       "\tScore.4 & -0.1132277  & -0.2401922  & NA          & NA          & -0.2830693  & NA          &  0.13155870 & -0.1132277  & NA          & -0.1132277  & NA          & NA          &  0.04003204 &  0.48238191 & -0.60048058 & -0.1132277  &  0.03522350 &  1.00000000\\\\\n",
       "\\end{tabular}\n"
      ],
      "text/markdown": [
       "\n",
       "| <!--/--> | Q1 | Q2 | Q3 | Q4 | Q5 | Q6 | Q7 | Q8 | Q9 | Q10 | Q11 | Q12 | Q13 | Score | Score.1 | Score.2 | Score.3 | Score.4 |\n",
       "|---|---|---|---|---|---|---|---|---|---|---|---|---|---|---|---|---|---|---|\n",
       "| Q1 |  1.0000000  | -0.3535534  | NA          | NA          |  0.1666667  | NA          | -0.25819889 | -0.1666667  | NA          |  1.0000000  | NA          | NA          |  0.47140452 | -0.19364917 | -0.47140452 | -0.1666667  | -0.31108551 | -0.11322770 |\n",
       "| Q2 | -0.3535534  |  1.0000000  | NA          | NA          | -0.4714045  | NA          |  0.73029674 |  0.4714045  | NA          | -0.3535534  | NA          | NA          | -0.16666667 |  0.22821773 |  0.75000000 |  0.4714045  |  0.36661779 | -0.24019223 |\n",
       "| Q3 |         NA  |         NA  |  1          | NA          |         NA  | NA          |          NA |         NA  | NA          |         NA  | NA          | NA          |          NA |          NA |          NA |         NA  |          NA |          NA |\n",
       "| Q4 |         NA  |         NA  | NA          |  1          |         NA  | NA          |          NA |         NA  | NA          |         NA  | NA          | NA          |          NA |          NA |          NA |         NA  |          NA |          NA |\n",
       "| Q5 |  0.1666667  | -0.4714045  | NA          | NA          |  1.0000000  | NA          | -0.64549722 |  0.1666667  | NA          |  0.1666667  | NA          | NA          |  0.35355339 | -0.25819889 | -0.35355339 | -0.4166667  | -0.41478068 | -0.28306926 |\n",
       "| Q6 |         NA  |         NA  | NA          | NA          |         NA  |  1          |          NA |         NA  | NA          |         NA  | NA          | NA          |          NA |          NA |          NA |         NA  |          NA |          NA |\n",
       "| Q7 | -0.2581989  |  0.7302967  | NA          | NA          | -0.6454972  | NA          |  1.00000000 |  0.6454972  | NA          | -0.2581989  | NA          | NA          |  0.09128709 |  0.75000000 |  0.54772256 |  0.6454972  |  0.08032193 |  0.13155870 |\n",
       "| Q8 | -0.1666667  |  0.4714045  | NA          | NA          |  0.1666667  | NA          |  0.64549722 |  1.0000000  | NA          | -0.1666667  | NA          | NA          |  0.47140452 |  0.71004695 |  0.35355339 |  0.4166667  | -0.31108551 | -0.11322770 |\n",
       "| Q9 |         NA  |         NA  | NA          | NA          |         NA  | NA          |          NA |         NA  |  1          |         NA  | NA          | NA          |          NA |          NA |          NA |         NA  |          NA |          NA |\n",
       "| Q10 |  1.0000000  | -0.3535534  | NA          | NA          |  0.1666667  | NA          | -0.25819889 | -0.1666667  | NA          |  1.0000000  | NA          | NA          |  0.47140452 | -0.19364917 | -0.47140452 | -0.1666667  | -0.31108551 | -0.11322770 |\n",
       "| Q11 |         NA  |         NA  | NA          | NA          |         NA  | NA          |          NA |         NA  | NA          |         NA  |  1          | NA          |          NA |          NA |          NA |         NA  |          NA |          NA |\n",
       "| Q12 |         NA  |         NA  | NA          | NA          |         NA  | NA          |          NA |         NA  | NA          |         NA  | NA          |  1          |          NA |          NA |          NA |         NA  |          NA |          NA |\n",
       "| Q13 |  0.4714045  | -0.1666667  | NA          | NA          |  0.3535534  | NA          |  0.09128709 |  0.4714045  | NA          |  0.4714045  | NA          | NA          |  1.00000000 |  0.22821773 | -0.41666667 |  0.4714045  | -0.91654447 |  0.04003204 |\n",
       "| Score | -0.1936492  |  0.2282177  | NA          | NA          | -0.2581989  | NA          |  0.75000000 |  0.7100469  | NA          | -0.1936492  | NA          | NA          |  0.22821773 |  1.00000000 |  0.09128709 |  0.2581989  | -0.08032193 |  0.48238191 |\n",
       "| Score.1 | -0.4714045  |  0.7500000  | NA          | NA          | -0.3535534  | NA          |  0.54772256 |  0.3535534  | NA          | -0.4714045  | NA          | NA          | -0.41666667 |  0.09128709 |  1.00000000 |  0.3535534  |  0.40327957 | -0.60048058 |\n",
       "| Score.2 | -0.1666667  |  0.4714045  | NA          | NA          | -0.4166667  | NA          |  0.64549722 |  0.4166667  | NA          | -0.1666667  | NA          | NA          |  0.47140452 |  0.25819889 |  0.35355339 |  1.0000000  | -0.49255205 | -0.11322770 |\n",
       "| Score.3 | -0.3110855  |  0.3666178  | NA          | NA          | -0.4147807  | NA          |  0.08032193 | -0.3110855  | NA          | -0.3110855  | NA          | NA          | -0.91654447 | -0.08032193 |  0.40327957 | -0.4925521  |  1.00000000 |  0.03522350 |\n",
       "| Score.4 | -0.1132277  | -0.2401922  | NA          | NA          | -0.2830693  | NA          |  0.13155870 | -0.1132277  | NA          | -0.1132277  | NA          | NA          |  0.04003204 |  0.48238191 | -0.60048058 | -0.1132277  |  0.03522350 |  1.00000000 |\n",
       "\n"
      ],
      "text/plain": [
       "        Q1         Q2         Q3 Q4 Q5         Q6 Q7          Q8         Q9\n",
       "Q1       1.0000000 -0.3535534 NA NA  0.1666667 NA -0.25819889 -0.1666667 NA\n",
       "Q2      -0.3535534  1.0000000 NA NA -0.4714045 NA  0.73029674  0.4714045 NA\n",
       "Q3              NA         NA  1 NA         NA NA          NA         NA NA\n",
       "Q4              NA         NA NA  1         NA NA          NA         NA NA\n",
       "Q5       0.1666667 -0.4714045 NA NA  1.0000000 NA -0.64549722  0.1666667 NA\n",
       "Q6              NA         NA NA NA         NA  1          NA         NA NA\n",
       "Q7      -0.2581989  0.7302967 NA NA -0.6454972 NA  1.00000000  0.6454972 NA\n",
       "Q8      -0.1666667  0.4714045 NA NA  0.1666667 NA  0.64549722  1.0000000 NA\n",
       "Q9              NA         NA NA NA         NA NA          NA         NA  1\n",
       "Q10      1.0000000 -0.3535534 NA NA  0.1666667 NA -0.25819889 -0.1666667 NA\n",
       "Q11             NA         NA NA NA         NA NA          NA         NA NA\n",
       "Q12             NA         NA NA NA         NA NA          NA         NA NA\n",
       "Q13      0.4714045 -0.1666667 NA NA  0.3535534 NA  0.09128709  0.4714045 NA\n",
       "Score   -0.1936492  0.2282177 NA NA -0.2581989 NA  0.75000000  0.7100469 NA\n",
       "Score.1 -0.4714045  0.7500000 NA NA -0.3535534 NA  0.54772256  0.3535534 NA\n",
       "Score.2 -0.1666667  0.4714045 NA NA -0.4166667 NA  0.64549722  0.4166667 NA\n",
       "Score.3 -0.3110855  0.3666178 NA NA -0.4147807 NA  0.08032193 -0.3110855 NA\n",
       "Score.4 -0.1132277 -0.2401922 NA NA -0.2830693 NA  0.13155870 -0.1132277 NA\n",
       "        Q10        Q11 Q12 Q13         Score       Score.1     Score.2   \n",
       "Q1       1.0000000 NA  NA   0.47140452 -0.19364917 -0.47140452 -0.1666667\n",
       "Q2      -0.3535534 NA  NA  -0.16666667  0.22821773  0.75000000  0.4714045\n",
       "Q3              NA NA  NA           NA          NA          NA         NA\n",
       "Q4              NA NA  NA           NA          NA          NA         NA\n",
       "Q5       0.1666667 NA  NA   0.35355339 -0.25819889 -0.35355339 -0.4166667\n",
       "Q6              NA NA  NA           NA          NA          NA         NA\n",
       "Q7      -0.2581989 NA  NA   0.09128709  0.75000000  0.54772256  0.6454972\n",
       "Q8      -0.1666667 NA  NA   0.47140452  0.71004695  0.35355339  0.4166667\n",
       "Q9              NA NA  NA           NA          NA          NA         NA\n",
       "Q10      1.0000000 NA  NA   0.47140452 -0.19364917 -0.47140452 -0.1666667\n",
       "Q11             NA  1  NA           NA          NA          NA         NA\n",
       "Q12             NA NA   1           NA          NA          NA         NA\n",
       "Q13      0.4714045 NA  NA   1.00000000  0.22821773 -0.41666667  0.4714045\n",
       "Score   -0.1936492 NA  NA   0.22821773  1.00000000  0.09128709  0.2581989\n",
       "Score.1 -0.4714045 NA  NA  -0.41666667  0.09128709  1.00000000  0.3535534\n",
       "Score.2 -0.1666667 NA  NA   0.47140452  0.25819889  0.35355339  1.0000000\n",
       "Score.3 -0.3110855 NA  NA  -0.91654447 -0.08032193  0.40327957 -0.4925521\n",
       "Score.4 -0.1132277 NA  NA   0.04003204  0.48238191 -0.60048058 -0.1132277\n",
       "        Score.3     Score.4    \n",
       "Q1      -0.31108551 -0.11322770\n",
       "Q2       0.36661779 -0.24019223\n",
       "Q3               NA          NA\n",
       "Q4               NA          NA\n",
       "Q5      -0.41478068 -0.28306926\n",
       "Q6               NA          NA\n",
       "Q7       0.08032193  0.13155870\n",
       "Q8      -0.31108551 -0.11322770\n",
       "Q9               NA          NA\n",
       "Q10     -0.31108551 -0.11322770\n",
       "Q11              NA          NA\n",
       "Q12              NA          NA\n",
       "Q13     -0.91654447  0.04003204\n",
       "Score   -0.08032193  0.48238191\n",
       "Score.1  0.40327957 -0.60048058\n",
       "Score.2 -0.49255205 -0.11322770\n",
       "Score.3  1.00000000  0.03522350\n",
       "Score.4  0.03522350  1.00000000"
      ]
     },
     "metadata": {},
     "output_type": "display_data"
    }
   ],
   "source": [
    "cbind(scores, openended) %>%\n",
    "  cor()"
   ]
  }
 ],
 "metadata": {
  "kernelspec": {
   "display_name": "R",
   "language": "R",
   "name": "ir"
  },
  "language_info": {
   "codemirror_mode": "r",
   "file_extension": ".r",
   "mimetype": "text/x-r-source",
   "name": "R",
   "pygments_lexer": "r",
   "version": "3.5.1"
  }
 },
 "nbformat": 4,
 "nbformat_minor": 2
}

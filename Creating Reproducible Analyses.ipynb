{
 "cells": [
  {
   "cell_type": "markdown",
   "metadata": {},
   "source": [
    "# Creating Code Notebooks using Jupyter Notebooks\n",
    "\n",
    "Learning Objectives:\n",
    "1. Understand key benefits and affordances associated with using code notebooks.\n",
    "2. Identify core components and features of Jupyter Notebooks.\n",
    "3. Convert existing R script to a code notebook using Jupyter Notebook.\n",
    "\n",
    "This will primarily be an interactive session, please go to: http://bit.ly/ComprehensiveTrainingProject\n",
    "___________________________________________________"
   ]
  },
  {
   "cell_type": "markdown",
   "metadata": {},
   "source": [
    "## Why Create Code Notebooks?\n",
    "\n",
    "**Readability, Reproducibility, and Interactivity**\n",
    "\n",
    "* Tell a comprehensive story in plain words\n",
    "* Include code chunks for explicit documentation of steps and analyses\n",
    "* Render output and visualizations for lasting documentation\n"
   ]
  },
  {
   "cell_type": "markdown",
   "metadata": {},
   "source": [
    "## Core Components of Jupyter Notebooks"
   ]
  },
  {
   "cell_type": "markdown",
   "metadata": {},
   "source": [
    "### Kernels\n",
    "Computational engine that executes code (i.e., Python, R)"
   ]
  },
  {
   "cell_type": "markdown",
   "metadata": {},
   "source": [
    "### Cells\n",
    "You'll build your notebook using \"cells.\" There are 3 types:\n",
    "![alt text](https://github.com/eauer22/SIOP-2019-Master-Tutorial-Creating-Reproducible-and-Interactive-Analyses/blob/master/screenshots/celltypes.png?raw=true) \n",
    "This text is in a markdown cell, which uses markdown (a lightweight markup language with plain text formatting syntax). When this chunk is rendered, it will be the text you wrote with any formatting you specified. "
   ]
  },
  {
   "cell_type": "markdown",
   "metadata": {},
   "source": [
    "**Here are a few formatting options:**\n",
    "\n",
    "# Heading 1\n",
    "## Heading 2\n",
    "### Heading 3\n",
    "#### Heading 4\n",
    "\n",
    "Italics: *asterisks* or _underscores_.\n",
    "\n",
    "Bold:  **asterisks** or __underscores__.\n",
    "\n",
    "Strikethrough ~~This was an error~~\n",
    "\n",
    "You can create tables:\n",
    "\n",
    "| Participant| Score  |\n",
    "|------|------|\n",
    "|  1  | 45|\n",
    "|  2  | 65|\n",
    "|  3  | 87|\n",
    "\n",
    "You can create lists with bullets or numbers:\n",
    " * point 1\n",
    " * point 2\n",
    " * point 3\n",
    "\n",
    "1. point 1\n",
    "2. point 2\n",
    "3. point 3\n",
    "\n",
    "You can even add pictures (just copy the link URL, typically from your website or repository):\n",
    "![alt text](https://img-s-msn-com.akamaized.net/tenant/amp/entityid/BBKHUZJ.img?h=416&w=624&m=6&q=60&u=t&o=f&l=f&x=1700&y=1854)\n"
   ]
  },
  {
   "cell_type": "code",
   "execution_count": 1,
   "metadata": {},
   "outputs": [
    {
     "name": "stdout",
     "output_type": "stream",
     "text": [
      "[1] \"hello world\"\n"
     ]
    },
    {
     "data": {
      "text/html": [
       "-7"
      ],
      "text/latex": [
       "-7"
      ],
      "text/markdown": [
       "-7"
      ],
      "text/plain": [
       "[1] -7"
      ]
     },
     "metadata": {},
     "output_type": "display_data"
    },
    {
     "data": {
      "text/html": [
       "60"
      ],
      "text/latex": [
       "60"
      ],
      "text/markdown": [
       "60"
      ],
      "text/plain": [
       "[1] 60"
      ]
     },
     "metadata": {},
     "output_type": "display_data"
    },
    {
     "data": {
      "text/html": [
       "<table>\n",
       "<thead><tr><th scope=col>participant</th><th scope=col>absences</th><th scope=col>gpa</th></tr></thead>\n",
       "<tbody>\n",
       "\t<tr><td>1  </td><td>7  </td><td>2.4</td></tr>\n",
       "\t<tr><td>2  </td><td>0  </td><td>4.0</td></tr>\n",
       "\t<tr><td>3  </td><td>5  </td><td>3.0</td></tr>\n",
       "\t<tr><td>4  </td><td>2  </td><td>3.5</td></tr>\n",
       "\t<tr><td>5  </td><td>4  </td><td>3.0</td></tr>\n",
       "</tbody>\n",
       "</table>\n"
      ],
      "text/latex": [
       "\\begin{tabular}{r|lll}\n",
       " participant & absences & gpa\\\\\n",
       "\\hline\n",
       "\t 1   & 7   & 2.4\\\\\n",
       "\t 2   & 0   & 4.0\\\\\n",
       "\t 3   & 5   & 3.0\\\\\n",
       "\t 4   & 2   & 3.5\\\\\n",
       "\t 5   & 4   & 3.0\\\\\n",
       "\\end{tabular}\n"
      ],
      "text/markdown": [
       "\n",
       "| participant | absences | gpa |\n",
       "|---|---|---|\n",
       "| 1   | 7   | 2.4 |\n",
       "| 2   | 0   | 4.0 |\n",
       "| 3   | 5   | 3.0 |\n",
       "| 4   | 2   | 3.5 |\n",
       "| 5   | 4   | 3.0 |\n",
       "\n"
      ],
      "text/plain": [
       "  participant absences gpa\n",
       "1 1           7        2.4\n",
       "2 2           0        4.0\n",
       "3 3           5        3.0\n",
       "4 4           2        3.5\n",
       "5 5           4        3.0"
      ]
     },
     "metadata": {},
     "output_type": "display_data"
    },
    {
     "data": {
      "image/png": "[encoded data removed]",
      "text/plain": [
       "plot without title"
      ]
     },
     "metadata": {},
     "output_type": "display_data"
    }
   ],
   "source": [
    "# This is a code cell\n",
    "print(\"hello world\")  #print character string\n",
    "\n",
    "3-5-5\n",
    "2+4+6*9 #calculate\n",
    "\n",
    "my_data<-data.frame(participant = c(1,2,3,4,5),absences = c(7,0,5,2,4), gpa = c(2.4,4,3,3.5,3)) #create dataset\n",
    "my_data #print dataset\n",
    "\n",
    "plot(my_data$absences, my_data$gpa) #plot data"
   ]
  },
  {
   "cell_type": "raw",
   "metadata": {},
   "source": [
    "This is a raw cell. We don't typically need this type of cell. It's used to write html code or specify metadata. "
   ]
  },
  {
   "cell_type": "markdown",
   "metadata": {},
   "source": [
    "### Filename Extension & Exporting\n",
    "Now that we can navigate around jupyter lab, create cells, and add extensions, what can we do with this document? \n",
    "\n",
    "**.ipynb** is the file extension name for the Jupyter Notebook. With this file you can:\n",
    "* add this file to a GitHub repo \n",
    "* render a static version using Jupyter's nbviewer (https://nbviewer.jupyter.org/)\n",
    "* render an interactive version using Binder (how you are accessing this document)\n",
    "\n",
    "The notebook will export exactly in the state you see, including the output of any code cells. Make sure all of your code is run first.\n",
    "\n",
    "**Export options:**\n",
    "\n",
    "![alt text](https://github.com/eauer22/SIOP-2019-Master-Tutorial-Creating-Reproducible-and-Interactive-Analyses/blob/master/screenshots/exportoptions.png?raw=true)\n"
   ]
  },
  {
   "cell_type": "code",
   "execution_count": null,
   "metadata": {},
   "outputs": [],
   "source": []
  }
 ],
 "metadata": {
  "kernelspec": {
   "display_name": "R",
   "language": "R",
   "name": "ir"
  },
  "language_info": {
   "codemirror_mode": "r",
   "file_extension": ".r",
   "mimetype": "text/x-r-source",
   "name": "R",
   "pygments_lexer": "r",
   "version": "3.5.1"
  }
 },
 "nbformat": 4,
 "nbformat_minor": 2
}
